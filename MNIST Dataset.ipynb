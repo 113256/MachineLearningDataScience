{
 "cells": [
  {
   "cell_type": "markdown",
   "metadata": {},
   "source": [
    "# testing deep net with mnist dataset"
   ]
  },
  {
   "cell_type": "code",
   "execution_count": 4,
   "metadata": {},
   "outputs": [],
   "source": [
    "from sklearn.preprocessing import OneHotEncoder\n",
    "from sklearn.preprocessing import StandardScaler\n",
    "from matplotlib import pyplot as plt\n",
    "from tensorflow.keras.datasets import mnist\n",
    "from Modules import mnistHelper as mHelper\n",
    "from Modules import dropout\n",
    "from Modules import deepnn as deepnn\n",
    "from Modules import adamGradientDescent as adam\n",
    "from Modules import testCases_v4a\n",
    "(trainXOriginal, trainyOriginal), (testXOriginal, testyOriginal) = mnist.load_data()"
   ]
  },
  {
   "cell_type": "code",
   "execution_count": 9,
   "metadata": {},
   "outputs": [],
   "source": [
    "import numpy as np"
   ]
  },
  {
   "cell_type": "code",
   "execution_count": 5,
   "metadata": {},
   "outputs": [],
   "source": [
    "%matplotlib inline"
   ]
  },
  {
   "cell_type": "code",
   "execution_count": 6,
   "metadata": {},
   "outputs": [
    {
     "data": {
      "text/plain": [
       "(60000, 28, 28)"
      ]
     },
     "execution_count": 6,
     "metadata": {},
     "output_type": "execute_result"
    }
   ],
   "source": [
    "trainXOriginal.shape"
   ]
  },
  {
   "cell_type": "code",
   "execution_count": 7,
   "metadata": {},
   "outputs": [
    {
     "name": "stdout",
     "output_type": "stream",
     "text": [
      "(28, 28)\n"
     ]
    },
    {
     "data": {
      "image/png": "[encoded data removed]",
      "text/plain": [
       "<Figure size 432x288 with 1 Axes>"
      ]
     },
     "metadata": {
      "needs_background": "light"
     },
     "output_type": "display_data"
    }
   ],
   "source": [
    "#show random number\n",
    "demo = trainXOriginal[0]\n",
    "print(trainXOriginal[0].shape)\n",
    "plt.imshow(demo, cmap=\"hot\", vmin=0, vmax=1) #reshape back to 20 pixel by 20 pixel\n",
    "plt.show()"
   ]
  },
  {
   "cell_type": "raw",
   "metadata": {},
   "source": []
  },
  {
   "cell_type": "markdown",
   "metadata": {},
   "source": [
    "### one hot encode y array to turn output layer into 10-node"
   ]
  },
  {
   "cell_type": "code",
   "execution_count": 10,
   "metadata": {},
   "outputs": [
    {
     "name": "stderr",
     "output_type": "stream",
     "text": [
      "C:\\Users\\jackc\\Anaconda3\\lib\\site-packages\\sklearn\\preprocessing\\_encoders.py:415: FutureWarning: The handling of integer data will change in version 0.22. Currently, the categories are determined based on the range [0, max(values)], while in the future they will be determined based on the unique values.\n",
      "If you want the future behaviour and silence this warning, you can specify \"categories='auto'\".\n",
      "In case you used a LabelEncoder before this OneHotEncoder to convert the categories to integers, then you can now use the OneHotEncoder directly.\n",
      "  warnings.warn(msg, FutureWarning)\n",
      "C:\\Users\\jackc\\Anaconda3\\lib\\site-packages\\sklearn\\preprocessing\\_encoders.py:415: FutureWarning: The handling of integer data will change in version 0.22. Currently, the categories are determined based on the range [0, max(values)], while in the future they will be determined based on the unique values.\n",
      "If you want the future behaviour and silence this warning, you can specify \"categories='auto'\".\n",
      "In case you used a LabelEncoder before this OneHotEncoder to convert the categories to integers, then you can now use the OneHotEncoder directly.\n",
      "  warnings.warn(msg, FutureWarning)\n"
     ]
    }
   ],
   "source": [
    "#one-hot encode\n",
    "ytmp= np.reshape(trainyOriginal, (-1, 1))\n",
    "encoder = OneHotEncoder(sparse=False)\n",
    "yTrain = encoder.fit_transform(ytmp)\n",
    "ytmp= np.reshape(testyOriginal, (-1, 1))\n",
    "encoder = OneHotEncoder(sparse=False)\n",
    "yTest = encoder.fit_transform(ytmp)"
   ]
  },
  {
   "cell_type": "markdown",
   "metadata": {},
   "source": [
    "## reshape input from 28x28 to 1-d i.e. 784"
   ]
  },
  {
   "cell_type": "code",
   "execution_count": 11,
   "metadata": {},
   "outputs": [
    {
     "data": {
      "text/plain": [
       "(60000, 784)"
      ]
     },
     "execution_count": 11,
     "metadata": {},
     "output_type": "execute_result"
    }
   ],
   "source": [
    "X_train_flatten = trainXOriginal.reshape(trainXOriginal.shape[0], -1)\n",
    "X_test_flatten = testXOriginal.reshape(testXOriginal.shape[0], -1)\n",
    "X_train_flatten.shape"
   ]
  },
  {
   "cell_type": "code",
   "execution_count": 12,
   "metadata": {},
   "outputs": [],
   "source": [
    "#normalize features\n",
    "XTrain = X_train_flatten.astype('float32')\n",
    "XTest = X_test_flatten.astype('float32')\n",
    "#XTrain = X_train_flatten\n",
    "#XTest = X_test_flatten\n",
    "XTrain /= 255\n",
    "XTest /= 255"
   ]
  },
  {
   "cell_type": "code",
   "execution_count": 13,
   "metadata": {},
   "outputs": [
    {
     "data": {
      "text/plain": [
       "(784, 10000)"
      ]
     },
     "execution_count": 13,
     "metadata": {},
     "output_type": "execute_result"
    }
   ],
   "source": [
    "#transpose - to make it work with functions\n",
    "XTest,XTrain,yTest,yTrain = XTest.T,XTrain.T,yTest.T,yTrain.T\n",
    "XTest.shape"
   ]
  },
  {
   "cell_type": "markdown",
   "metadata": {},
   "source": [
    "## Test with batch gradient Descent"
   ]
  },
  {
   "cell_type": "code",
   "execution_count": 24,
   "metadata": {},
   "outputs": [
    {
     "name": "stdout",
     "output_type": "stream",
     "text": [
      "Cost after iteration 0: 7.300916\n",
      "Cost after iteration 10: 2.080420\n",
      "Cost after iteration 20: 1.431064\n",
      "Cost after iteration 30: 1.039200\n",
      "Cost after iteration 40: 0.923020\n",
      "Cost after iteration 50: 0.850451\n",
      "Cost after iteration 60: 0.764680\n",
      "Cost after iteration 70: 0.717574\n",
      "Cost after iteration 80: 0.681970\n",
      "Cost after iteration 90: 0.652706\n"
     ]
    },
    {
     "data": {
      "image/png": "[encoded data removed]",
      "text/plain": [
       "<Figure size 432x288 with 1 Axes>"
      ]
     },
     "metadata": {
      "needs_background": "light"
     },
     "output_type": "display_data"
    }
   ],
   "source": [
    "parameters = deepnn.L_layer_model(XTrain, yTrain,layers_dims = [XTrain.shape[0], 64, 10], num_iterations = 100, learning_rate = 0.4, lambd = 0.3)"
   ]
  },
  {
   "cell_type": "code",
   "execution_count": 23,
   "metadata": {},
   "outputs": [
    {
     "name": "stdout",
     "output_type": "stream",
     "text": [
      "On the training set:\n",
      "(10, 60000)\n",
      "Accuracy: 0.8579\n",
      "On the test set:\n",
      "(10, 10000)\n",
      "Accuracy: 0.865\n"
     ]
    }
   ],
   "source": [
    "print (\"On the training set:\")\n",
    "predictions_train = mHelper.predictMinst(XTrain, trainyOriginal, parameters)\n",
    "print (\"On the test set:\")\n",
    "predictions_test = mHelper.predictMinst(XTest, testyOriginal, parameters)"
   ]
  },
  {
   "cell_type": "markdown",
   "metadata": {},
   "source": [
    "## Test with mini-batch gradient descent"
   ]
  },
  {
   "cell_type": "code",
   "execution_count": 25,
   "metadata": {},
   "outputs": [
    {
     "name": "stdout",
     "output_type": "stream",
     "text": [
      "Cost after iteration 0: 1.280253\n",
      "Cost after iteration 2: 0.520910\n",
      "Cost after iteration 4: 0.454870\n",
      "Cost after iteration 6: 0.418886\n",
      "Cost after iteration 8: 0.400128\n",
      "Cost after iteration 10: 0.383571\n",
      "Cost after iteration 12: 0.373486\n",
      "Cost after iteration 14: 0.364946\n",
      "Cost after iteration 16: 0.357260\n",
      "Cost after iteration 18: 0.351835\n"
     ]
    },
    {
     "data": {
      "image/png": "[encoded data removed]",
      "text/plain": [
       "<Figure size 432x288 with 1 Axes>"
      ]
     },
     "metadata": {
      "needs_background": "light"
     },
     "output_type": "display_data"
    }
   ],
   "source": [
    "parameters = deepnn.L_layer_model_mini(XTrain, yTrain,layers_dims = [XTrain.shape[0], 50, 10], num_iterations = 20, learning_rate = 0.8, lambd = 0, mini_batch_size=64, optimizer=\"gd\", printIteration=2, updateIteration=2)"
   ]
  },
  {
   "cell_type": "code",
   "execution_count": 26,
   "metadata": {},
   "outputs": [
    {
     "name": "stdout",
     "output_type": "stream",
     "text": [
      "On the training set:\n",
      "(10, 60000)\n",
      "Accuracy: 0.9504833333333333\n",
      "On the test set:\n",
      "(10, 10000)\n",
      "Accuracy: 0.9414\n"
     ]
    }
   ],
   "source": [
    "print (\"On the training set:\")\n",
    "predictions_train = mHelper.predictMinst(XTrain, trainyOriginal, parameters)\n",
    "print (\"On the test set:\")\n",
    "predictions_test = mHelper.predictMinst(XTest, testyOriginal, parameters)"
   ]
  },
  {
   "cell_type": "code",
   "execution_count": 27,
   "metadata": {},
   "outputs": [
    {
     "data": {
      "image/png": "[encoded data removed]",
      "text/plain": [
       "<Figure size 432x288 with 1 Axes>"
      ]
     },
     "metadata": {
      "needs_background": "light"
     },
     "output_type": "display_data"
    },
    {
     "name": "stdout",
     "output_type": "stream",
     "text": [
      "[1]\n"
     ]
    }
   ],
   "source": [
    "#test single case\n",
    "test = mHelper.displayPrediction(np.atleast_2d(XTrain[:,200]).T,parameters)"
   ]
  },
  {
   "cell_type": "code",
   "execution_count": 28,
   "metadata": {},
   "outputs": [
    {
     "data": {
      "image/png": "[encoded data removed]",
      "text/plain": [
       "<Figure size 432x288 with 1 Axes>"
      ]
     },
     "metadata": {
      "needs_background": "light"
     },
     "output_type": "display_data"
    },
    {
     "name": "stdout",
     "output_type": "stream",
     "text": [
      "[8]\n"
     ]
    }
   ],
   "source": [
    "test = mHelper.displayPrediction(np.atleast_2d(XTrain[:,202]).T,parameters)"
   ]
  },
  {
   "cell_type": "markdown",
   "metadata": {},
   "source": [
    "## test using mini-batch with adam GD optimizer "
   ]
  },
  {
   "cell_type": "code",
   "execution_count": 29,
   "metadata": {},
   "outputs": [
    {
     "name": "stdout",
     "output_type": "stream",
     "text": [
      "Cost after iteration 0: 0.685319\n",
      "Cost after iteration 2: 0.381601\n",
      "Cost after iteration 4: 0.352362\n",
      "Cost after iteration 6: 0.333412\n",
      "Cost after iteration 8: 0.316251\n",
      "Cost after iteration 10: 0.309458\n",
      "Cost after iteration 12: 0.302118\n",
      "Cost after iteration 14: 0.294718\n",
      "Cost after iteration 16: 0.291657\n",
      "Cost after iteration 18: 0.287568\n"
     ]
    },
    {
     "data": {
      "image/png": "[encoded data removed]",
      "text/plain": [
       "<Figure size 432x288 with 1 Axes>"
      ]
     },
     "metadata": {
      "needs_background": "light"
     },
     "output_type": "display_data"
    }
   ],
   "source": [
    "parameters = deepnn.L_layer_model_mini(XTrain, yTrain,layers_dims = [XTrain.shape[0], 50, 10], num_iterations = 20, learning_rate = 0.8, lambd = 0, mini_batch_size=64, optimizer=\"adam\",printIteration=2 ,updateIteration=2)"
   ]
  },
  {
   "cell_type": "code",
   "execution_count": 30,
   "metadata": {},
   "outputs": [
    {
     "name": "stdout",
     "output_type": "stream",
     "text": [
      "On the training set:\n",
      "(10, 60000)\n",
      "Accuracy: 0.9591666666666666\n",
      "On the test set:\n",
      "(10, 10000)\n",
      "Accuracy: 0.9462\n"
     ]
    }
   ],
   "source": [
    "print (\"On the training set:\")\n",
    "predictions_train = mHelper.predictMinst(XTrain, trainyOriginal, parameters)\n",
    "print (\"On the test set:\")\n",
    "predictions_test = mHelper.predictMinst(XTest, testyOriginal, parameters)"
   ]
  },
  {
   "cell_type": "markdown",
   "metadata": {},
   "source": [
    "## Test batch gradient descent with dropout regularization"
   ]
  },
  {
   "cell_type": "code",
   "execution_count": 2,
   "metadata": {},
   "outputs": [],
   "source": [
    "from Modules import dropout"
   ]
  },
  {
   "cell_type": "code",
   "execution_count": 14,
   "metadata": {},
   "outputs": [
    {
     "name": "stdout",
     "output_type": "stream",
     "text": [
      "Cost after iteration 0: 7.566865\n",
      "Cost after iteration 10: 3.020616\n",
      "Cost after iteration 20: 2.343820\n",
      "Cost after iteration 30: 2.078669\n",
      "Cost after iteration 40: 1.902334\n",
      "Cost after iteration 50: 1.788864\n",
      "Cost after iteration 60: 1.680454\n"
     ]
    },
    {
     "data": {
      "image/png": "[encoded data removed]",
      "text/plain": [
       "<Figure size 432x288 with 1 Axes>"
      ]
     },
     "metadata": {
      "needs_background": "light"
     },
     "output_type": "display_data"
    }
   ],
   "source": [
    "parameters = deepnn.L_layer_model_dropout(XTrain, yTrain,layers_dims = [XTrain.shape[0], 64, 10], num_iterations = 70, learning_rate = 0.8)"
   ]
  },
  {
   "cell_type": "code",
   "execution_count": 15,
   "metadata": {},
   "outputs": [
    {
     "name": "stdout",
     "output_type": "stream",
     "text": [
      "On the training set:\n",
      "(10, 60000)\n",
      "Accuracy: 0.86645\n",
      "On the test set:\n",
      "(10, 10000)\n",
      "Accuracy: 0.8707\n"
     ]
    },
    {
     "data": {
      "image/png": "[encoded data removed]",
      "text/plain": [
       "<Figure size 432x288 with 1 Axes>"
      ]
     },
     "metadata": {
      "needs_background": "light"
     },
     "output_type": "display_data"
    },
    {
     "name": "stdout",
     "output_type": "stream",
     "text": [
      "[1]\n"
     ]
    }
   ],
   "source": [
    "print (\"On the training set:\")\n",
    "predictions_train = mHelper.predictMinst(XTrain, trainyOriginal, parameters)\n",
    "print (\"On the test set:\")\n",
    "predictions_test = mHelper.predictMinst(XTest, testyOriginal, parameters)\n",
    "pred3 = mHelper.displayPrediction(np.atleast_2d(XTrain[:,200]).T,parameters)"
   ]
  },
  {
   "cell_type": "code",
   "execution_count": null,
   "metadata": {},
   "outputs": [],
   "source": []
  }
 ],
 "metadata": {
  "kernelspec": {
   "display_name": "Python 3",
   "language": "python",
   "name": "python3"
  },
  "language_info": {
   "codemirror_mode": {
    "name": "ipython",
    "version": 3
   },
   "file_extension": ".py",
   "mimetype": "text/x-python",
   "name": "python",
   "nbconvert_exporter": "python",
   "pygments_lexer": "ipython3",
   "version": "3.7.4"
  }
 },
 "nbformat": 4,
 "nbformat_minor": 2
}
